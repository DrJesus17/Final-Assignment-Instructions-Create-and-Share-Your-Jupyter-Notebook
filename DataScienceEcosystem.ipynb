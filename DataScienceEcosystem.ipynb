{
 "cells": [
  {
   "cell_type": "markdown",
   "id": "0a3818db",
   "metadata": {},
   "source": [
    "# Data Science Tools and Ecosystem"
   ]
  },
  {
   "cell_type": "markdown",
   "id": "e8e1ce00",
   "metadata": {},
   "source": [
    "In this notebook, Data Science Tools and Ecosystem are summarized."
   ]
  },
  {
   "cell_type": "markdown",
   "id": "4e8a450f",
   "metadata": {},
   "source": [
    "## Objectives:\n",
    "| unordered list: |\n",
    "| ---- |\n",
    "| List popular languages for Data Science |\n",
    "| List of some famous libraries for Data Science |\n",
    "| Data Science Tools |"
   ]
  },
  {
   "cell_type": "markdown",
   "id": "d18228cc",
   "metadata": {},
   "source": [
    "Some of the popular languages that Data Scientists use are:\n",
    "| ordered list |\n",
    "| ---- |\n",
    "| Python |\n",
    "| R |\n",
    "| C++ |"
   ]
  },
  {
   "cell_type": "markdown",
   "id": "4a9f2fd3",
   "metadata": {},
   "source": [
    "Some of the commonly used libraries used by Data Scientists include:\n",
    "| ordered list |\n",
    "| ---- |\n",
    "| Panda |\n",
    "| Numpy |\n",
    "| Keras |\n",
    "| TensorFlow |\n",
    "| Pytorch |"
   ]
  },
  {
   "cell_type": "markdown",
   "id": "f9038bad",
   "metadata": {},
   "source": [
    "| Data Science Tools: |\n",
    "| ----- |\n",
    "| Jupyter notebook |\n",
    "| Apache Spark |\n",
    "| Hadoop |"
   ]
  },
  {
   "attachments": {},
   "cell_type": "markdown",
   "id": "8c1912c6",
   "metadata": {},
   "source": [
    "### Below are a few examples of evaluating arithmetic expressions in Python: +, -, *, /"
   ]
  },
  {
   "cell_type": "code",
   "execution_count": 1,
   "id": "0155d069",
   "metadata": {},
   "outputs": [
    {
     "data": {
      "text/plain": [
       "17"
      ]
     },
     "execution_count": 1,
     "metadata": {},
     "output_type": "execute_result"
    }
   ],
   "source": [
    "# This a simple arithmetic expression to mutiply then add integers.\n",
    "(3*4)+5"
   ]
  },
  {
   "cell_type": "code",
   "execution_count": 2,
   "id": "908baa80",
   "metadata": {},
   "outputs": [
    {
     "data": {
      "text/plain": [
       "3.3333333333333335"
      ]
     },
     "execution_count": 2,
     "metadata": {},
     "output_type": "execute_result"
    }
   ],
   "source": [
    "# This will convert 200 minutes to hours by diving by 60\n",
    "200/60"
   ]
  },
  {
   "cell_type": "markdown",
   "id": "42897812",
   "metadata": {},
   "source": [
    "## Autor:\n",
    "Jesus Gonzalez "
   ]
  },
  {
   "cell_type": "code",
   "execution_count": null,
   "id": "754ab46a",
   "metadata": {},
   "outputs": [],
   "source": []
  }
 ],
 "metadata": {
  "kernelspec": {
   "display_name": "Python 3 (ipykernel)",
   "language": "python",
   "name": "python3"
  },
  "language_info": {
   "codemirror_mode": {
    "name": "ipython",
    "version": 3
   },
   "file_extension": ".py",
   "mimetype": "text/x-python",
   "name": "python",
   "nbconvert_exporter": "python",
   "pygments_lexer": "ipython3",
   "version": "3.10.9"
  }
 },
 "nbformat": 4,
 "nbformat_minor": 5
}
